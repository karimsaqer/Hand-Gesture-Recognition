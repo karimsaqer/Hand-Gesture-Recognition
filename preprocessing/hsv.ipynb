{
 "cells": [
  {
   "cell_type": "code",
   "execution_count": null,
   "metadata": {},
   "outputs": [],
   "source": [
    "# implement traditional hsv method to detect the shadow area\n",
    "# input: image\n",
    "# output: shadow mask\n",
    "\n"
   ]
  }
 ],
 "metadata": {
  "language_info": {
   "name": "python"
  },
  "orig_nbformat": 4
 },
 "nbformat": 4,
 "nbformat_minor": 2
}
