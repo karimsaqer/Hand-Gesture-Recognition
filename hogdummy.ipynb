{
 "cells": [
  {
   "cell_type": "code",
   "execution_count": null,
   "metadata": {},
   "outputs": [],
   "source": [
    "import cv2\n",
    "import glob\n",
    "import os\n",
    "from skimage.feature import hog\n",
    "from sklearn.svm import LinearSVC\n",
    "from sklearn.metrics import accuracy_score\n",
    "from sklearn.model_selection import train_test_split\n",
    "from sklearn.decomposition import PCA\n",
    "\n"
   ]
  },
  {
   "cell_type": "code",
   "execution_count": null,
   "metadata": {},
   "outputs": [],
   "source": [
    "# Load the dataset of images\n",
    "# Each image is a grayscale image of size 64x128\n",
    "dataset_path = '0/'\n",
    "image_paths = glob.glob(os.path.join(dataset_path, '*.JPG'))\n",
    "\n",
    "# Define the HOG parameters\n",
    "orientations = 9\n",
    "pixels_per_cell = (8, 8)\n",
    "cells_per_block = (3, 3)\n",
    "block_norm = 'L2-Hys'\n",
    "\n",
    "# Extract the HOG features from each image\n",
    "hog_features = []\n",
    "labels = []\n",
    "for image_path in image_paths:\n",
    "    image = cv2.imread(image_path, cv2.IMREAD_GRAYSCALE)\n",
    "    hog_feature = hog(image, orientations=orientations,\n",
    "    pixels_per_cell=pixels_per_cell,\n",
    "    cells_per_block=cells_per_block,\n",
    "    block_norm=block_norm)\n",
    "    hog_features.append(hog_feature)\n",
    "label = os.path.basename(image_path).split('.')[0][0]\n",
    "labels.append(int(label))\n",
    "\n",
    "# Split the data into training and testing sets\n",
    "X_train, X_test, y_train, y_test = train_test_split(hog_features, labels, test_size=0.2, random_state=42)\n",
    "\n"
   ]
  },
  {
   "cell_type": "code",
   "execution_count": null,
   "metadata": {},
   "outputs": [],
   "source": [
    "# Apply PCA to the data\n",
    "pca = PCA(n_components=10)\n",
    "pca.fit(X_train)\n",
    "X_train_pca = pca.transform(X_train)\n",
    "X_test_pca = pca.transform(X_test)\n",
    "\n",
    "# Train the SVM classifier on the PCA-transformed data\n",
    "svm = LinearSVC()\n",
    "svm.fit(X_train_pca, y_train)\n",
    "\n",
    "# Evaluate the classifier on the PCA-transformed testing data\n",
    "y_pred = svm.predict(X_test_pca)\n",
    "accuracy = accuracy_score(y_test, y_pred)\n",
    "\n",
    "print('Accuracy:', accuracy) \n",
    "pca = PCA(n_components=10)\n",
    "pca.fit(X_train)\n",
    "X_train_pca = pca.transform(X_train)\n",
    "X_test_pca = pca.transform(X_test) "
   ]
  }
 ],
 "metadata": {
  "language_info": {
   "name": "python"
  },
  "orig_nbformat": 4
 },
 "nbformat": 4,
 "nbformat_minor": 2
}
