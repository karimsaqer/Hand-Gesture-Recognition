{
 "cells": [
  {
   "cell_type": "code",
   "execution_count": 5,
   "metadata": {},
   "outputs": [],
   "source": [
    "import cv2\n",
    "import numpy as np\n",
    "%matplotlib inline"
   ]
  },
  {
   "cell_type": "code",
   "execution_count": 6,
   "metadata": {},
   "outputs": [],
   "source": [
    "def preprocess_image(image_path):\n",
    "\n",
    "    image = cv2.imread(image_path)\n",
    "    screen_size = (1920, 1080)  # Replace with your screen size\n",
    "\n",
    "    # Resize the image to fit the screen\n",
    "    image = cv2.resize(image, screen_size)\n",
    "\n",
    "    gray = cv2.cvtColor(image, cv2.COLOR_BGR2GRAY)\n",
    "\n",
    "    # Apply Gaussian blur to remove noise\n",
    "    blur = cv2.GaussianBlur(gray, (5, 5), 0)\n",
    "    \n",
    "    # Apply adaptive thresholding to segment the hand from the background\n",
    "    thresh = cv2.adaptiveThreshold(blur, 255, cv2.ADAPTIVE_THRESH_GAUSSIAN_C, cv2.THRESH_BINARY_INV, 11, 2)\n",
    "\n",
    "    contours, hierarchy = cv2.findContours(thresh, cv2.RETR_EXTERNAL, cv2.CHAIN_APPROX_SIMPLE)\n",
    "\n",
    "    max_contour = max(contours, key=cv2.contourArea)\n",
    "    \n",
    "    # Create a mask for the hand contour\n",
    "    mask = np.zeros_like(gray)\n",
    "    cv2.drawContours(mask, [max_contour], 0, 255, -1)\n",
    "    \n",
    "    # Apply the mask to the original image\n",
    "    masked_image = cv2.bitwise_and(image, image, mask=mask)\n",
    "    \n",
    "    # Convert the masked image to grayscale\n",
    "    gray_masked = cv2.cvtColor(masked_image, cv2.COLOR_BGR2GRAY)\n",
    "    \n",
    "    # Normalize the lighting using CLAHE\n",
    "    clahe = cv2.createCLAHE(clipLimit=2.0, tileGridSize=(8,8))\n",
    "    normalized_image = clahe.apply(gray_masked)\n",
    "    \n",
    "    return normalized_image\n"
   ]
  },
  {
   "cell_type": "code",
   "execution_count": 8,
   "metadata": {},
   "outputs": [
    {
     "name": "stdout",
     "output_type": "stream",
     "text": [
      "done\n"
     ]
    }
   ],
   "source": [
    "image_path = ('./Project_Dataset_S23/men/1/1_men (1).jpg')\n",
    "image = cv2.imread(image_path)\n",
    "screen_size = (1920, 1080)  # Replace with your screen size\n",
    "\n",
    "# Resize the image to fit the screen\n",
    "image = cv2.resize(image, screen_size)\n",
    "\n",
    "cv2.namedWindow('Image', cv2.WINDOW_NORMAL)\n",
    "cv2.resizeWindow('Image', screen_size)\n",
    "\n",
    "cv2.imshow('Image', image)\n",
    "preprocessed_image = preprocess_image(image_path)\n",
    "\n",
    "cv2.namedWindow('Preprocessed Image', cv2.WINDOW_NORMAL)\n",
    "cv2.resizeWindow('Preprocessed Image', screen_size)\n",
    "cv2.imshow('Preprocessed Image', preprocessed_image)\n",
    "\n",
    "cv2.waitKey(0)\n",
    "cv2.destroyAllWindows()\n",
    "print('done')"
   ]
  },
  {
   "cell_type": "code",
   "execution_count": null,
   "metadata": {},
   "outputs": [],
   "source": []
  }
 ],
 "metadata": {
  "kernelspec": {
   "display_name": "Python 3 (ipykernel)",
   "language": "python",
   "name": "python3"
  },
  "language_info": {
   "codemirror_mode": {
    "name": "ipython",
    "version": 3
   },
   "file_extension": ".py",
   "mimetype": "text/x-python",
   "name": "python",
   "nbconvert_exporter": "python",
   "pygments_lexer": "ipython3",
   "version": "3.9.13"
  }
 },
 "nbformat": 4,
 "nbformat_minor": 2
}
